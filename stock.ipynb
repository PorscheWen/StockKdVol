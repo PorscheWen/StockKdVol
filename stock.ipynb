{
  "cells": [
    {
      "cell_type": "code",
      "execution_count": 1,
      "id": "3678a61f",
      "metadata": {
        "colab": {
          "base_uri": "https://localhost:8080/"
        },
        "id": "3678a61f",
        "outputId": "84f315ad-ed12-4d28-af7c-410afae836e0"
      },
      "outputs": [
        {
          "output_type": "stream",
          "name": "stdout",
          "text": [
            "{'K': 66.67, 'D': 58.33, 'total_volume': 300882192}\n"
          ]
        }
      ],
      "source": [
        "import requests\n",
        "def get_tw_stock_kd_and_volume(stock_id):\n",
        "    url = f'https://www.twse.com.tw/exchangeReport/STOCK_DAY?response=json&date=&stockNo={stock_id}'\n",
        "    headers = {'User-Agent': 'Mozilla/5.0'}\n",
        "    resp = requests.get(url, headers=headers)\n",
        "    data = resp.json()\n",
        "    if 'data' in data and data['data']:\n",
        "        closes = [float(row[6].replace(',', '')) for row in data['data']]\n",
        "        lows = [float(row[5].replace(',', '')) for row in data['data']]\n",
        "        highs = [float(row[4].replace(',', '')) for row in data['data']]\n",
        "        volumes = [int(row[1].replace(',', '')) for row in data['data']]\n",
        "        # 計算KD指標\n",
        "        period = 9\n",
        "        k_values, d_values = [], []\n",
        "        k, d = 50, 50\n",
        "        for i in range(len(closes)):\n",
        "            if i < period - 1:\n",
        "                k_values.append(None)\n",
        "                d_values.append(None)\n",
        "                continue\n",
        "            low_min = min(lows[i-period+1:i+1])\n",
        "            high_max = max(highs[i-period+1:i+1])\n",
        "            rsv = (closes[i] - low_min) / (high_max - low_min) * 100 if high_max != low_min else 0\n",
        "            k = k * 2/3 + rsv * 1/3\n",
        "            d = d * 2/3 + k * 1/3\n",
        "            k_values.append(round(k, 2))\n",
        "            d_values.append(round(d, 2))\n",
        "        total_volume = sum(volumes)\n",
        "        return {\n",
        "            'K': k_values[-1],\n",
        "            'D': d_values[-1],\n",
        "            'total_volume': total_volume\n",
        "        }\n",
        "    return None"
      ]
    },
    {
      "cell_type": "code",
      "execution_count": 1,
      "id": "70947feb",
      "metadata": {
        "id": "70947feb"
      },
      "outputs": [],
      "source": []
    },
    {
      "cell_type": "code",
      "execution_count": 2,
      "id": "1e1e7e86",
      "metadata": {
        "id": "1e1e7e86"
      },
      "outputs": [],
      "source": [
        "tw100_stock_ids = [\n",
        "    '2330', '2317', '2454', '2308', '2412', '2881', '2882', '2886', '2885', '2884',\n",
        "    '1301', '1303', '2002', '2303', '2301', '2302', '2327', '2357', '2382', '2395',\n",
        "    '2408', '2409', '2603', '2609', '2615', '2801', '2823', '2912', '3008', '3045',\n",
        "    '3231', '3711', '4904', '4938', '5871', '5880', '6505', '8046', '8069', '8150',\n",
        "    '8210', '8261', '9910', '9911', '9917', '9921', '9933', '9938', '9945', '1101',\n",
        "    '1102', '1216', '1227', '1256', '1304', '1326', '1402', '1476', '1504', '1513',\n",
        "    '1536', '1605', '1710', '1722', '1802', '2006', '2014', '2027', '2105', '2201',\n",
        "    '2207', '2227', '2305', '2324', '2347', '2356', '2368', '2379', '2385', '2392',\n",
        "    '2401', '2439', '2448', '2481', '2601', '2606', '2607', '2618', '2707', '2809',\n",
        "    '2812', '2834', '2855', '2880', '2890', '2915', '3006', '3017', '3034', '3044',\n",
        "    '3056', '3189', '3234', '3296', '3702', '3706', '4906', '4919', '4931', '4958'\n",
        " ]"
      ]
    },
    {
      "cell_type": "code",
      "execution_count": 3,
      "id": "00779ae8",
      "metadata": {
        "colab": {
          "base_uri": "https://localhost:8080/",
          "height": 211
        },
        "id": "00779ae8",
        "outputId": "d04a9a12-6a21-4039-b868-95bb887280b5"
      },
      "outputs": [
        {
          "output_type": "error",
          "ename": "NameError",
          "evalue": "name 'tw50_stock_ids' is not defined",
          "traceback": [
            "\u001b[0;31m---------------------------------------------------------------------------\u001b[0m",
            "\u001b[0;31mNameError\u001b[0m                                 Traceback (most recent call last)",
            "\u001b[0;32m/tmp/ipython-input-3-3796742410.py\u001b[0m in \u001b[0;36m<cell line: 0>\u001b[0;34m()\u001b[0m\n\u001b[1;32m      2\u001b[0m \u001b[0;32mimport\u001b[0m \u001b[0mdatetime\u001b[0m\u001b[0;34m\u001b[0m\u001b[0;34m\u001b[0m\u001b[0m\n\u001b[1;32m      3\u001b[0m \u001b[0mresult\u001b[0m \u001b[0;34m=\u001b[0m \u001b[0;34m[\u001b[0m\u001b[0;34m]\u001b[0m\u001b[0;34m\u001b[0m\u001b[0;34m\u001b[0m\u001b[0m\n\u001b[0;32m----> 4\u001b[0;31m \u001b[0;32mfor\u001b[0m \u001b[0mstock_id\u001b[0m \u001b[0;32min\u001b[0m \u001b[0mtw50_stock_ids\u001b[0m\u001b[0;34m:\u001b[0m\u001b[0;34m\u001b[0m\u001b[0;34m\u001b[0m\u001b[0m\n\u001b[0m\u001b[1;32m      5\u001b[0m     \u001b[0mdata\u001b[0m \u001b[0;34m=\u001b[0m \u001b[0mget_tw_stock_kd_and_volume\u001b[0m\u001b[0;34m(\u001b[0m\u001b[0mstock_id\u001b[0m\u001b[0;34m)\u001b[0m\u001b[0;34m\u001b[0m\u001b[0;34m\u001b[0m\u001b[0m\n\u001b[1;32m      6\u001b[0m     \u001b[0;32mif\u001b[0m \u001b[0mdata\u001b[0m \u001b[0;32mand\u001b[0m \u001b[0mdata\u001b[0m\u001b[0;34m[\u001b[0m\u001b[0;34m'K'\u001b[0m\u001b[0;34m]\u001b[0m \u001b[0;32mis\u001b[0m \u001b[0;32mnot\u001b[0m \u001b[0;32mNone\u001b[0m \u001b[0;32mand\u001b[0m \u001b[0mdata\u001b[0m\u001b[0;34m[\u001b[0m\u001b[0;34m'K'\u001b[0m\u001b[0;34m]\u001b[0m \u001b[0;34m<\u001b[0m \u001b[0;36m10\u001b[0m\u001b[0;34m:\u001b[0m\u001b[0;34m\u001b[0m\u001b[0;34m\u001b[0m\u001b[0m\n",
            "\u001b[0;31mNameError\u001b[0m: name 'tw50_stock_ids' is not defined"
          ]
        }
      ],
      "source": [
        "\n",
        "import requests\n",
        "import datetime\n",
        "result = []\n",
        "for stock_id in tw100_stock_ids:\n",
        "    data = get_tw_stock_kd_and_volume(stock_id)\n",
        "    if data and data['K'] is not None and data['K'] < 10:\n",
        "        # 取得近一年(12個月)的成交量\n",
        "        volumes = []\n",
        "        for i in range(0):\n",
        "            today = datetime.date.today()\n",
        "            year = today.year\n",
        "            month = today.month - i\n",
        "            if month <= 0:\n",
        "                year -= 1\n",
        "                month += 12\n",
        "            date_str = f\"{year}{month:02d}01\"\n",
        "            url = f'https://www.twse.com.tw/exchangeReport/STOCK_DAY?response=json&date={date_str}&stockNo={stock_id}'\n",
        "            headers = {'User-Agent': 'Mozilla/5.0'}\n",
        "            resp = requests.get(url, headers=headers)\n",
        "            stock_data = resp.json()\n",
        "            if 'data' in stock_data and stock_data['data']:\n",
        "                volumes += [int(row[1].replace(',', '')) for row in stock_data['data']]\n",
        "        if volumes and volumes[-1] == max(volumes):\n",
        "            result.append({'stock_id': stock_id, 'K': data['K'], 'total_volume': data['total_volume']})\n",
        "\n",
        "if result:\n",
        "    print(result)\n",
        "else:\n",
        "    result = '沒有相符股票'\n",
        "    print(result)"
      ]
    },
    {
      "cell_type": "code",
      "execution_count": null,
      "id": "c0e01928",
      "metadata": {
        "id": "c0e01928"
      },
      "outputs": [],
      "source": [
        "import requests\n",
        "bot_token = '8071359988:AAGzBu4XILdJBhGJNQcgcLtAiNG8PQwC3Dk'\n",
        "chat_id = '7030809792'\n",
        "msg = f'result: {result}'\n",
        "url = f'https://api.telegram.org/bot{bot_token}/sendMessage'\n",
        "params = {\n",
        "    'chat_id': chat_id,\n",
        "    'text': msg\n",
        "}\n",
        "resp = requests.get(url, params=params)\n",
        "print(resp.text)\n",
        "print(resp.status_code)"
      ]
    },
    {
      "cell_type": "code",
      "execution_count": null,
      "id": "8839a98a",
      "metadata": {
        "id": "8839a98a"
      },
      "outputs": [],
      "source": []
    }
  ],
  "metadata": {
    "kernelspec": {
      "display_name": "Python 3",
      "language": "python",
      "name": "python3"
    },
    "language_info": {
      "codemirror_mode": {
        "name": "ipython",
        "version": 3
      },
      "file_extension": ".py",
      "mimetype": "text/x-python",
      "name": "python",
      "nbconvert_exporter": "python",
      "pygments_lexer": "ipython3",
      "version": "3.12.10"
    },
    "colab": {
      "provenance": []
    }
  },
  "nbformat": 4,
  "nbformat_minor": 5
}